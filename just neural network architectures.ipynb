{
 "cells": [
  {
   "cell_type": "code",
   "execution_count": 3,
   "metadata": {},
   "outputs": [],
   "source": [
    "import os\n",
    "os.environ[\"KERAS_BACKEND\"] = \"torch\"\n",
    "import keras\n",
    "keras.config.set_image_data_format('channels_first')\n",
    "from tensorflow.keras import layers"
   ]
  },
  {
   "cell_type": "markdown",
   "metadata": {},
   "source": [
    "## Single Neuron\n",
    "\n",
    "- Single Neuron & Input Shape\n",
    "- Parameters of Single Neuron"
   ]
  },
  {
   "cell_type": "code",
   "execution_count": null,
   "metadata": {},
   "outputs": [],
   "source": [
    "# Create a network with 1 linear unit\n",
    "model = keras.Sequential([\n",
    "    layers.Dense( units = 1, input_shape = (2,))\n",
    "])"
   ]
  },
  {
   "cell_type": "code",
   "execution_count": null,
   "metadata": {},
   "outputs": [],
   "source": [
    "# Seperate input layer\n",
    "model = keras.Sequential([\n",
    "    layers.Input( shape= (2, ) ),\n",
    "    layers.Dense( units = 1, activation = \"relu\")\n",
    "])"
   ]
  },
  {
   "cell_type": "code",
   "execution_count": null,
   "metadata": {},
   "outputs": [],
   "source": [
    "# Different shape\n",
    "model = keras.Sequential([\n",
    "    layers.Input( shape= (11, ) ),\n",
    "    layers.Dense( units = 1, activation= \"relu\")\n",
    "])"
   ]
  },
  {
   "cell_type": "code",
   "execution_count": null,
   "metadata": {},
   "outputs": [],
   "source": [
    "weights , bias = model.weights"
   ]
  },
  {
   "cell_type": "code",
   "execution_count": null,
   "metadata": {},
   "outputs": [],
   "source": [
    "print(f'Single Neuron has weight values of shape =\\t {weights.shape}, \\n bias shape for that neuron = \\t{bias.shape}')"
   ]
  },
  {
   "cell_type": "code",
   "execution_count": null,
   "metadata": {},
   "outputs": [],
   "source": [
    "model.summary()"
   ]
  },
  {
   "cell_type": "markdown",
   "metadata": {},
   "source": [
    "## Neural Network as stack of neurons & layers"
   ]
  },
  {
   "cell_type": "code",
   "execution_count": null,
   "metadata": {},
   "outputs": [],
   "source": [
    "from tensorflow import keras\n",
    "from tensorflow.keras import layers\n",
    "\n",
    "model = keras.Sequential([\n",
    "    # input layer\n",
    "    layers.Input(shape=(8,)),\n",
    "    \n",
    "    # the hidden ReLU layers\n",
    "    layers.Dense(units= 4, activation='relu', ),\n",
    "    \n",
    "    # output layer\n",
    "    layers.Dense(units=1),\n",
    "])"
   ]
  },
  {
   "cell_type": "code",
   "execution_count": null,
   "metadata": {},
   "outputs": [],
   "source": [
    "from tensorflow import keras\n",
    "from tensorflow.keras import layers\n",
    "\n",
    "model = keras.Sequential([\n",
    "    # input layer\n",
    "    layers.Input(shape=(8,)),\n",
    "    \n",
    "    # Two Hidden Layers\n",
    "    layers.Dense(units= 4, activation='relu', ),\n",
    "    layers.Dense(units= 4, activation='relu', ),\n",
    "    \n",
    "    # output layer\n",
    "    layers.Dense(units=1),\n",
    "])"
   ]
  },
  {
   "cell_type": "code",
   "execution_count": 3,
   "metadata": {},
   "outputs": [],
   "source": [
    "model = keras.Sequential([\n",
    "    # Input layer\n",
    "    layers.Input(shape=(13,)),\n",
    "\n",
    "    # Three Hidden Layers\n",
    "    layers.Dense(units = 512, activation= \"relu\"),\n",
    "    layers.Dense(units = 512, activation= \"relu\"),\n",
    "    layers.Dense(units = 512, activation= \"relu\"),\n",
    "\n",
    "    # Output Layer\n",
    "    layers.Dense(units = 1, )\n",
    "])"
   ]
  }
 ],
 "metadata": {
  "kernelspec": {
   "display_name": "base",
   "language": "python",
   "name": "python3"
  },
  "language_info": {
   "codemirror_mode": {
    "name": "ipython",
    "version": 3
   },
   "file_extension": ".py",
   "mimetype": "text/x-python",
   "name": "python",
   "nbconvert_exporter": "python",
   "pygments_lexer": "ipython3",
   "version": "3.12.4"
  }
 },
 "nbformat": 4,
 "nbformat_minor": 2
}
