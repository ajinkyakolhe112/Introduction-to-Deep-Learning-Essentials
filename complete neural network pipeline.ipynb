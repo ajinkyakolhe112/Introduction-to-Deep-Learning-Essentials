{
 "cells": [
  {
   "cell_type": "markdown",
   "metadata": {},
   "source": [
    "# 1. Get Data to learn patterns from\n",
    "\n",
    "- More complex the patterns present in the data, more complex model is required\n",
    "- Simpler the patterns present in the data, simpler model is required"
   ]
  },
  {
   "cell_type": "code",
   "execution_count": 1,
   "metadata": {},
   "outputs": [],
   "source": [
    "import torch\n",
    "import torchvision\n",
    "import datasets as huggingface_datasets\n",
    "import lightning\n",
    "import torchmetrics\n",
    "\n",
    "def get_dataloaders():\n",
    "    class Custom_Dataset(torch.utils.data.Dataset):\n",
    "        def __init__(self, dataset):\n",
    "            self.dataset = dataset\n",
    "            self.data_transformations = torchvision.transforms.Compose(\n",
    "                [\n",
    "                    torchvision.transforms.ToTensor(),\n",
    "                ]\n",
    "            )\n",
    "            \n",
    "        def __getitem__(self, index):\n",
    "            image , label  = self.dataset[index]['image'], self.dataset[index]['label']\n",
    "            image_tensor   = self.data_transformations(image)\n",
    "            single_example = (image_tensor, label)\n",
    "            return single_example\n",
    "        \n",
    "        def __len__(self):\n",
    "            return len(self.dataset)\n",
    "    \n",
    "    training_dataset          = huggingface_datasets.load_dataset(\"mnist\", split=\"train\")\n",
    "    custom_training_dataset   = Custom_Dataset(training_dataset) # __init__ method called automatically to initalize\n",
    "    training_dataloader       = torch.utils.data.DataLoader(custom_training_dataset, batch_size = 32, shuffle= True)\n",
    "\n",
    "    validation_dataset        = huggingface_datasets.load_dataset(\"mnist\", split=\"test\" )\n",
    "    custom_validation_dataset = Custom_Dataset(validation_dataset)\n",
    "    validation_dataloader     = torch.utils.data.DataLoader(custom_validation_dataset, batch_size = 32, shuffle= False)\n",
    "    \n",
    "    return training_dataloader, validation_dataloader\n",
    "\n"
   ]
  },
  {
   "cell_type": "markdown",
   "metadata": {},
   "source": [
    "# 2. Model Training Loop using Pytorch Lightning\n",
    "\n",
    "- Model Training is simply finding the values of parameters for which Error is 0\n",
    "- When you are not wrong, you are automatically right\n",
    "- You find the parameters by **BRUTE FORCE SEARCH**\n",
    "  - The most inefficient algorith. \n",
    "  - But Advantage of brute force is, it's simple. Solve unoptimized way first, and then optimize later. \n",
    "  - Directly finding optimized solution takes too long.  "
   ]
  },
  {
   "cell_type": "code",
   "execution_count": 2,
   "metadata": {},
   "outputs": [],
   "source": [
    "class Lightning_Module(lightning.LightningModule):\n",
    "    def __init__(self, model, optimizer):\n",
    "        super().__init__()\n",
    "        \n",
    "        self.model     = model\n",
    "        self.optimizer = optimizer\n",
    "\n",
    "        self.automatic_optimization = False\n",
    "        self.training_accuracy      = torchmetrics.Accuracy(task=\"multiclass\", num_classes=10)\n",
    "        self.validation_accuracy    = torchmetrics.Accuracy(task=\"multiclass\", num_classes=10)\n",
    "        \n",
    "        self.training_accuracy_history   = []\n",
    "        self.validation_accuracy_history = []\n",
    "\n",
    "\n",
    "    def training_step (self, batch, batch_idx):\n",
    "        images_actual, labels_actual        = batch\n",
    "        predicted_logits  = self.model(images_actual)\n",
    "        labels_predicted  = torch.argmax(predicted_logits, dim = 1)\n",
    "\n",
    "        loss             = torch.nn.functional.cross_entropy(predicted_logits, labels_actual)\n",
    "        \n",
    "        optimizer        = self.optimizers()\n",
    "        optimizer.zero_grad()\n",
    "        self.manual_backward(loss)\n",
    "        optimizer.step()\n",
    "        \"\"\"\n",
    "        for individual_parameter in self.parameters():\n",
    "            individual_parameter = individual_parameter - individual_parameter.grad * learning_rate\n",
    "        \"\"\"\n",
    "        self.training_accuracy(labels_predicted, labels_actual)\n",
    "        self.log(\"train_loss\"     , loss                   , prog_bar = True)\n",
    "        self.log(\"train_accuracy\" , self.training_accuracy , prog_bar = True)\n",
    "        \n",
    "        return loss\n",
    "\n",
    "    def validation_step (self, batch, batch_idx):\n",
    "        images_actual, labels_actual        = batch\n",
    "        predicted_logits  = self.model(images_actual)\n",
    "        labels_predicted  = torch.argmax(predicted_logits, dim = 1)\n",
    "\n",
    "        loss = torch.nn.functional.cross_entropy(predicted_logits, labels_actual)\n",
    "        self.validation_accuracy(labels_predicted, labels_actual)\n",
    "        self.log(\"validation_loss\"     , loss                     , prog_bar= False)\n",
    "        self.log(\"validation_accuracy\" , self.validation_accuracy , prog_bar= True)\n",
    "    \n",
    "    # TRAINING ACCURACY vs VALIDATION ACCURACY\n",
    "    def on_validation_epoch_end(self):\n",
    "        # print(f'epoch = {self.current_epoch}, train_accuracy = {self.training_accuracy.compute().item()}, validation_accuracy = {self.validation_accuracy.compute().item()}')\n",
    "        self.log(\"train_acc\" , self.training_accuracy  , prog_bar = False)\n",
    "        self.log(\"val_acc\"   , self.validation_accuracy, prog_bar = False)\n",
    "        self.training_accuracy_history  .append(self.training_accuracy  .compute().item())\n",
    "        self.validation_accuracy_history.append(self.validation_accuracy.compute().item())\n",
    "\n",
    "    def on_fit_end(self):\n",
    "        return self.training_accuracy_history, self.validation_accuracy_history\n",
    "\n",
    "    def configure_optimizers(self):\n",
    "        # optimizer = torch.optim.Adam(self.parameters(), lr=1e-3)\n",
    "        return self.optimizer"
   ]
  },
  {
   "cell_type": "markdown",
   "metadata": {},
   "source": [
    "# 3. Model Architecture & parameters\n",
    "\n",
    "- A network with more parameters can learn more complex patterns.\n",
    "- It's called **Capacity** of neural network\n",
    "- Pattern's are saved in the parameter values. We learn the optimal parameter values through training\n",
    "- NUMBER OF PARAMETERS = **Capacity** or **Intelligence** of Neural Network. ChatGPT has **175 billion** parameters\n",
    "  - In brain intelligence is saved in number of connections / synapses. \n",
    "  - Synapses in a mouse = **1 Trillion** approximately\n",
    "  - Synapses in human brain = **150 Trillion** approximately"
   ]
  },
  {
   "cell_type": "markdown",
   "metadata": {},
   "source": [
    "- Overfitting  = when model complexity > data pattern complexity\n",
    "- Underfitting = when model complexity < data pattern complexity"
   ]
  },
  {
   "cell_type": "markdown",
   "metadata": {},
   "source": [
    "#### Keras architecture"
   ]
  },
  {
   "cell_type": "code",
   "execution_count": 24,
   "metadata": {},
   "outputs": [],
   "source": [
    "import os\n",
    "os.environ[\"KERAS_BACKEND\"] = \"torch\"\n",
    "import keras\n",
    "from keras import layers\n",
    "keras.config.set_image_data_format('channels_first')\n",
    "\n",
    "model = keras.Sequential([\n",
    "    # Input layer\n",
    "    layers.Input(shape=(1,28,28)),\n",
    "    \n",
    "    # Three Hidden Layers\n",
    "    layers.Flatten(),\n",
    "    layers.Dense(units = 512, activation= \"relu\"),\n",
    "    # layers.Dense(units = 512, activation= \"relu\"),\n",
    "    # layers.Dense(units = 512, activation= \"relu\"),\n",
    "\n",
    "    # Output Layer\n",
    "    layers.Dense(units = 10, )\n",
    "])"
   ]
  },
  {
   "cell_type": "code",
   "execution_count": 19,
   "metadata": {},
   "outputs": [
    {
     "name": "stdout",
     "output_type": "stream",
     "text": [
      "=================================================================\n",
      "Layer (type:depth-idx)                   Param #\n",
      "=================================================================\n",
      "Sequential                               --\n",
      "├─Flatten: 1-1                           --\n",
      "├─Linear: 1-2                            401,920\n",
      "│    └─weight                            ├─401,408\n",
      "│    └─bias                              └─512\n",
      "├─ReLU: 1-3                              --\n",
      "├─Linear: 1-4                            5,130\n",
      "│    └─weight                            ├─5,120\n",
      "│    └─bias                              └─10\n",
      "=================================================================\n",
      "Total params: 407,050\n",
      "Trainable params: 407,050\n",
      "Non-trainable params: 0\n",
      "=================================================================\n"
     ]
    }
   ],
   "source": [
    "model_pytorch = torch.nn.Sequential(\n",
    "    torch.nn.Flatten(),\n",
    "    torch.nn.Linear(in_features = 1*28*28, out_features = 512),\n",
    "    torch.nn.ReLU(),\n",
    "    \n",
    "    torch.nn.Linear(in_features = 512, out_features = 10),\n",
    ")\n",
    "\n",
    "import torchinfo\n",
    "torchinfo.summary(model_pytorch, input_shape=(1,28,28), verbose= 2);"
   ]
  },
  {
   "cell_type": "markdown",
   "metadata": {},
   "source": [
    "# 4. Model Training"
   ]
  },
  {
   "cell_type": "code",
   "execution_count": 25,
   "metadata": {},
   "outputs": [],
   "source": [
    "# DATA\n",
    "training_dataloader, validation_dataloader = get_dataloaders()"
   ]
  },
  {
   "cell_type": "code",
   "execution_count": 26,
   "metadata": {},
   "outputs": [],
   "source": [
    "# MODEL ARCHITECTURE\n",
    "optimizer         = torch.optim.Adam(model.parameters(), lr= 0.001)\n",
    "lightning_model   = Lightning_Module(model, optimizer)"
   ]
  },
  {
   "cell_type": "code",
   "execution_count": 27,
   "metadata": {},
   "outputs": [
    {
     "name": "stderr",
     "output_type": "stream",
     "text": [
      "GPU available: True (mps), used: True\n",
      "TPU available: False, using: 0 TPU cores\n",
      "HPU available: False, using: 0 HPUs\n",
      "\n",
      "  | Name                | Type               | Params | Mode \n",
      "-------------------------------------------------------------------\n",
      "0 | model               | Sequential         | 407 K  | train\n",
      "1 | training_accuracy   | MulticlassAccuracy | 0      | train\n",
      "2 | validation_accuracy | MulticlassAccuracy | 0      | train\n",
      "-------------------------------------------------------------------\n",
      "407 K     Trainable params\n",
      "0         Non-trainable params\n",
      "407 K     Total params\n",
      "1.628     Total estimated model params size (MB)\n"
     ]
    },
    {
     "data": {
      "application/vnd.jupyter.widget-view+json": {
       "model_id": "a0f51b87c1db4aa89aab7bdee88c6435",
       "version_major": 2,
       "version_minor": 0
      },
      "text/plain": [
       "Sanity Checking: |          | 0/? [00:00<?, ?it/s]"
      ]
     },
     "metadata": {},
     "output_type": "display_data"
    },
    {
     "name": "stderr",
     "output_type": "stream",
     "text": [
      "/opt/anaconda3/lib/python3.12/site-packages/lightning/pytorch/trainer/connectors/data_connector.py:424: The 'val_dataloader' does not have many workers which may be a bottleneck. Consider increasing the value of the `num_workers` argument` to `num_workers=10` in the `DataLoader` to improve performance.\n",
      "/opt/anaconda3/lib/python3.12/site-packages/torchmetrics/utilities/prints.py:43: UserWarning: The ``compute`` method of metric MulticlassAccuracy was called before the ``update`` method which may lead to errors, as metric states have not yet been updated.\n",
      "  warnings.warn(*args, **kwargs)  # noqa: B028\n",
      "/opt/anaconda3/lib/python3.12/site-packages/lightning/pytorch/trainer/connectors/data_connector.py:424: The 'train_dataloader' does not have many workers which may be a bottleneck. Consider increasing the value of the `num_workers` argument` to `num_workers=10` in the `DataLoader` to improve performance.\n"
     ]
    },
    {
     "data": {
      "application/vnd.jupyter.widget-view+json": {
       "model_id": "fd0bfcbe02c940cd99685d07534b9853",
       "version_major": 2,
       "version_minor": 0
      },
      "text/plain": [
       "Training: |          | 0/? [00:00<?, ?it/s]"
      ]
     },
     "metadata": {},
     "output_type": "display_data"
    },
    {
     "data": {
      "application/vnd.jupyter.widget-view+json": {
       "model_id": "e81f6803e60c4bd68347d72accb51380",
       "version_major": 2,
       "version_minor": 0
      },
      "text/plain": [
       "Validation: |          | 0/? [00:00<?, ?it/s]"
      ]
     },
     "metadata": {},
     "output_type": "display_data"
    },
    {
     "data": {
      "application/vnd.jupyter.widget-view+json": {
       "model_id": "0909fb40213d46828d29b47b2d7e1a59",
       "version_major": 2,
       "version_minor": 0
      },
      "text/plain": [
       "Validation: |          | 0/? [00:00<?, ?it/s]"
      ]
     },
     "metadata": {},
     "output_type": "display_data"
    },
    {
     "data": {
      "application/vnd.jupyter.widget-view+json": {
       "model_id": "3dc2b1550aca4b138b63412d844cf805",
       "version_major": 2,
       "version_minor": 0
      },
      "text/plain": [
       "Validation: |          | 0/? [00:00<?, ?it/s]"
      ]
     },
     "metadata": {},
     "output_type": "display_data"
    },
    {
     "data": {
      "application/vnd.jupyter.widget-view+json": {
       "model_id": "34c3b757926c494b941a66c0061da7ac",
       "version_major": 2,
       "version_minor": 0
      },
      "text/plain": [
       "Validation: |          | 0/? [00:00<?, ?it/s]"
      ]
     },
     "metadata": {},
     "output_type": "display_data"
    },
    {
     "data": {
      "application/vnd.jupyter.widget-view+json": {
       "model_id": "18dd13ebdd8e4dc99302af0b07340dfe",
       "version_major": 2,
       "version_minor": 0
      },
      "text/plain": [
       "Validation: |          | 0/? [00:00<?, ?it/s]"
      ]
     },
     "metadata": {},
     "output_type": "display_data"
    },
    {
     "data": {
      "application/vnd.jupyter.widget-view+json": {
       "model_id": "dd556e1d36c843a59a44c9b0ec46d3ca",
       "version_major": 2,
       "version_minor": 0
      },
      "text/plain": [
       "Validation: |          | 0/? [00:00<?, ?it/s]"
      ]
     },
     "metadata": {},
     "output_type": "display_data"
    },
    {
     "data": {
      "application/vnd.jupyter.widget-view+json": {
       "model_id": "53bf87b64d544e78ba3373363d08999c",
       "version_major": 2,
       "version_minor": 0
      },
      "text/plain": [
       "Validation: |          | 0/? [00:00<?, ?it/s]"
      ]
     },
     "metadata": {},
     "output_type": "display_data"
    },
    {
     "data": {
      "application/vnd.jupyter.widget-view+json": {
       "model_id": "6debcc2cb85f4d8782b57f3698079ceb",
       "version_major": 2,
       "version_minor": 0
      },
      "text/plain": [
       "Validation: |          | 0/? [00:00<?, ?it/s]"
      ]
     },
     "metadata": {},
     "output_type": "display_data"
    },
    {
     "data": {
      "application/vnd.jupyter.widget-view+json": {
       "model_id": "27c1c5a0dc714a58bce950c894e9b56c",
       "version_major": 2,
       "version_minor": 0
      },
      "text/plain": [
       "Validation: |          | 0/? [00:00<?, ?it/s]"
      ]
     },
     "metadata": {},
     "output_type": "display_data"
    },
    {
     "data": {
      "application/vnd.jupyter.widget-view+json": {
       "model_id": "4f696ba6e32e43e49fce41083d5bdc13",
       "version_major": 2,
       "version_minor": 0
      },
      "text/plain": [
       "Validation: |          | 0/? [00:00<?, ?it/s]"
      ]
     },
     "metadata": {},
     "output_type": "display_data"
    },
    {
     "name": "stderr",
     "output_type": "stream",
     "text": [
      "`Trainer.fit` stopped: `max_epochs=10` reached.\n"
     ]
    }
   ],
   "source": [
    "# MODEL TRAINING\n",
    "epochs            = 10\n",
    "lightning_trainer = lightning.Trainer( max_epochs= epochs, callbacks = [])\n",
    "\n",
    "lightning_trainer.fit(model=lightning_model, train_dataloaders= training_dataloader, val_dataloaders= validation_dataloader)"
   ]
  },
  {
   "cell_type": "code",
   "execution_count": 21,
   "metadata": {},
   "outputs": [
    {
     "name": "stdout",
     "output_type": "stream",
     "text": [
      "1986.92s - pydevd: Sending message related to process being replaced timed-out after 5 seconds\n",
      "Serving TensorBoard on localhost; to expose to the network, use a proxy or pass --bind_all\n",
      "TensorBoard 2.16.2 at http://localhost:6006/ (Press CTRL+C to quit)\n",
      "^C\n"
     ]
    }
   ],
   "source": [
    "# VISUALIZE TRAINING IN TENSORBOARD\n",
    "!tensorboard --logdir ./lightning_logs"
   ]
  },
  {
   "cell_type": "code",
   "execution_count": 23,
   "metadata": {},
   "outputs": [
    {
     "data": {
      "text/plain": [
       "[<matplotlib.lines.Line2D at 0x3d1df4fe0>]"
      ]
     },
     "execution_count": 23,
     "metadata": {},
     "output_type": "execute_result"
    },
    {
     "data": {
      "image/png": "[encoded data removed]",
      "text/plain": [
       "<Figure size 640x480 with 1 Axes>"
      ]
     },
     "metadata": {},
     "output_type": "display_data"
    }
   ],
   "source": [
    "import matplotlib.pyplot as plt\n",
    "%matplotlib inline\n",
    "\n",
    "plt.plot(lightning_model.training_accuracy_history)\n",
    "plt.plot(lightning_model.validation_accuracy_history)"
   ]
  },
  {
   "cell_type": "code",
   "execution_count": null,
   "metadata": {},
   "outputs": [],
   "source": []
  }
 ],
 "metadata": {
  "kernelspec": {
   "display_name": "base",
   "language": "python",
   "name": "python3"
  },
  "language_info": {
   "codemirror_mode": {
    "name": "ipython",
    "version": 3
   },
   "file_extension": ".py",
   "mimetype": "text/x-python",
   "name": "python",
   "nbconvert_exporter": "python",
   "pygments_lexer": "ipython3",
   "version": "3.12.4"
  }
 },
 "nbformat": 4,
 "nbformat_minor": 2
}
